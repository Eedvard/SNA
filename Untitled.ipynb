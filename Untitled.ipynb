{
 "cells": [
  {
   "cell_type": "code",
   "execution_count": 41,
   "metadata": {},
   "outputs": [],
   "source": [
    "import sys\n",
    "\n",
    "import matplotlib.pyplot as plt\n",
    "import networkx as nx\n",
    "from networkx.algorithms import community\n"
   ]
  },
  {
   "cell_type": "code",
   "execution_count": 54,
   "metadata": {},
   "outputs": [
    {
     "data": {
      "image/png": "[encoded data removed]",
      "text/plain": [
       "<Figure size 432x288 with 1 Axes>"
      ]
     },
     "metadata": {},
     "output_type": "display_data"
    },
    {
     "data": {
      "text/plain": [
       "[['Hävittäjä', 'Nato'], ['Hävittäjä', 'Venäjä'], ['Ohjus']]"
      ]
     },
     "execution_count": 54,
     "metadata": {},
     "output_type": "execute_result"
    }
   ],
   "source": [
    "g = nx.Graph()\n",
    "#g.add_edges_from(\n",
    " #   [('A', 'B'), ('A', 'C'), ('D', 'B'), ('E', 'C'), ('E', 'F'),\n",
    "  #   ('B', 'H'), ('B', 'G'), ('B', 'F'), ('C', 'G')])\n",
    "#B = [\"a\",\"b\",\"c\",\"d\",\"e\"]\n",
    "#A = [104, 11234, 543, 456, 346]\n",
    "A = [1000, 11234, 10000, 5000]\n",
    "weights = [1, 5, 10, 2, 0.5, 2]\n",
    "#g.add_nodes_from(A)\n",
    "g.add_node(\"Hävittäjä\")\n",
    "g.add_node(\"Venäjä\")\n",
    "g.add_node(\"Nato\")\n",
    "g.add_node(\"Ohjus\")\n",
    "\n",
    "g.add_edge(\"Hävittäjä\", \"Venäjä\", weight=100)\n",
    "#g.add_edge(\"Nato\", \"Venäjä\", width=200)\n",
    "g.add_edge(\"Nato\", \"Hävittäjä\")\n",
    "#g.add_edge(\"Nato\", \"Ohjus\")\n",
    "#g.add_edge(\"Venäjä\", \"Ohjus\")\n",
    "#g.add_edge(\"Hävittäjä\", \"Ohjus\")\n",
    "\n",
    "\n",
    "\n",
    "nx.draw(g, pos=nx.circular_layout(g), node_size=A, with_labels=True, width=weights)\n",
    "plt.show()\n",
    "\n",
    "max(g.degree(), key=lambda x:x[1])\n",
    "\n",
    "j = nx.find_cliques(g)\n",
    "a = list(nx.find_cliques(g))\n",
    "a\n",
    "#community.quality.coverage(g,a)\n",
    "\n"
   ]
  },
  {
   "cell_type": "markdown",
   "metadata": {},
   "source": [
    "# "
   ]
  },
  {
   "cell_type": "code",
   "execution_count": null,
   "metadata": {},
   "outputs": [],
   "source": []
  }
 ],
 "metadata": {
  "kernelspec": {
   "display_name": "Python 3",
   "language": "python",
   "name": "python3"
  },
  "language_info": {
   "codemirror_mode": {
    "name": "ipython",
    "version": 3
   },
   "file_extension": ".py",
   "mimetype": "text/x-python",
   "name": "python",
   "nbconvert_exporter": "python",
   "pygments_lexer": "ipython3",
   "version": "3.6.8"
  }
 },
 "nbformat": 4,
 "nbformat_minor": 2
}
